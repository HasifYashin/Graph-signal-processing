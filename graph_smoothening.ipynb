{
 "cells": [
  {
   "cell_type": "code",
   "execution_count": 2,
   "metadata": {},
   "outputs": [
    {
     "name": "stdout",
     "output_type": "stream",
     "text": [
      "Using matplotlib backend: TkAgg\n",
      "Graph 1.........\n",
      "Start.......\n",
      "[-4.94162627e-16  5.85786438e-01  1.00000000e+00  1.58578644e+00\n",
      "  3.00000000e+00  3.41421356e+00  4.41421356e+00] [5.669467095138412, -10.019445119142269, 1.2021969114368802e-15, -0.4938343824728735, 2.104163672051612e-15, -0.4267880925291073, 0.20455289878640937]\n",
      "Graph 2.........\n",
      "Start.......\n",
      "[-1.57438173e-16  3.81966011e-01  3.81966011e-01  1.58578644e+00\n",
      "  2.61803399e+00  2.61803399e+00  4.41421356e+00] [-5.669467095138403, -4.003359025014726, 0.972389605513154, 4.115359226594939, 2.030347803605787, 4.39391054189392, 6.970482620298926]\n"
     ]
    }
   ],
   "source": [
    "%matplotlib\n",
    "import numpy as np\n",
    "import matplotlib.pylab as plt\n",
    "\n",
    "def init_graph(f, W):\n",
    "    summ = lambda x,y: x+y\n",
    "    D = [reduce(summ, neigh) for neigh in W]\n",
    "    D = np.diag(D)\n",
    "    L = np.subtract(D, W)\n",
    "    eigv, eigvecs= np.linalg.eig(L)\n",
    "    eigvecs = np.transpose(eigvecs)\n",
    "    s = np.argsort(eigv)\n",
    "    eigv = eigv[s]\n",
    "    eigvecs = eigvecs[s]\n",
    "    f_c = [np.inner(f, eigvec) for eigvec in eigvecs]\n",
    "    print \"Start.......\"\n",
    "    # print f_c ,\"\\n\", \"\\n\", \"\\n\\n\"\n",
    "    print eigv, f_c\n",
    "    \n",
    "    plt.plot(eigv, f_c)\n",
    "    plt.show()\n",
    "\n",
    "\n",
    "f = [7, 5, 2, -1, 2, 5, -5]\n",
    "W1 = [[0, 1, 0, 0, 0, 1, 0],\n",
    "      [1, 0, 1, 0, 0, 0, 0],\n",
    "      [0, 1, 0, 1, 0, 0, 0],\n",
    "      [0, 0, 1, 0, 1, 0, 1],\n",
    "      [0, 0, 0, 1, 0, 1, 0],\n",
    "      [1, 0, 0, 0, 1, 0, 0],\n",
    "      [0, 0, 0, 1, 0, 0, 0]]\n",
    "\n",
    "W2 = [[0, 0, 0, 1, 0, 0, 1],\n",
    "      [0, 0, 0, 1, 1, 0, 0],\n",
    "      [0, 0, 0, 0, 0, 1, 0],\n",
    "      [1, 1, 0, 0, 0, 1, 0],\n",
    "      [0, 1, 0, 0, 0, 0, 0],\n",
    "      [0, 0, 1, 1, 0, 0, 0],\n",
    "      [1, 0, 0, 0, 0, 0, 0]]\n",
    "\n",
    "print \"Graph 1.........\"\n",
    "init_graph(f, W1)\n",
    "\n",
    "print \"Graph 2.........\"\n",
    "init_graph(f, W2)"
   ]
  },
  {
   "cell_type": "code",
   "execution_count": null,
   "metadata": {},
   "outputs": [],
   "source": []
  }
 ],
 "metadata": {
  "kernelspec": {
   "display_name": "Python 2",
   "language": "python",
   "name": "python2"
  },
  "language_info": {
   "codemirror_mode": {
    "name": "ipython",
    "version": 2
   },
   "file_extension": ".py",
   "mimetype": "text/x-python",
   "name": "python",
   "nbconvert_exporter": "python",
   "pygments_lexer": "ipython2",
   "version": "2.7.12"
  }
 },
 "nbformat": 4,
 "nbformat_minor": 2
}
